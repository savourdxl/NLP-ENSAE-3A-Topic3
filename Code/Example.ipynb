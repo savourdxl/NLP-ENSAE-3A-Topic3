{
 "cells": [
  {
   "cell_type": "code",
   "execution_count": 1,
   "metadata": {},
   "outputs": [
    {
     "name": "stderr",
     "output_type": "stream",
     "text": [
      "d:\\10_python\\python-3.8.2\\python\\lib\\site-packages\\gensim\\similarities\\__init__.py:15: UserWarning: The gensim.similarities.levenshtein submodule is disabled, because the optional Levenshtein package <https://pypi.org/project/python-Levenshtein/> is unavailable. Install Levenhstein (e.g. `pip install python-Levenshtein`) to suppress this warning.\n",
      "  warnings.warn(msg)\n"
     ]
    }
   ],
   "source": [
    "import torch\n",
    "import torch\n",
    "import torch.nn as nn\n",
    "import torch.nn.functional as F\n",
    "\n",
    "import numpy as np\n",
    "from datasets import load_dataset\n",
    "from tqdm import tqdm\n",
    "import nltk\n",
    "from gensim.models.phrases import Phrases, Phraser\n",
    "from nltk.tokenize import TreebankWordTokenizer, TweetTokenizer\n",
    "import pandas as pd\n",
    "from termcolor import colored\n",
    "from collections import Counter\n",
    "\n",
    "from sacrebleu.metrics import BLEU"
   ]
  },
  {
   "cell_type": "code",
   "execution_count": 2,
   "metadata": {},
   "outputs": [
    {
     "name": "stdout",
     "output_type": "stream",
     "text": [
      "2.0.0+cpu\n"
     ]
    }
   ],
   "source": [
    "print(torch.__version__)"
   ]
  },
  {
   "cell_type": "code",
   "execution_count": 3,
   "metadata": {},
   "outputs": [
    {
     "name": "stderr",
     "output_type": "stream",
     "text": [
      "Found cached dataset silicone (C:/Users/savou/.cache/huggingface/datasets/silicone/dyda_da/1.0.0/af617406c94e3f78da85f7ea74ebfbd3f297a9665cb54adbae305b03bc4442a5)\n"
     ]
    }
   ],
   "source": [
    "# data set\n",
    "\n",
    "from datasets import load_dataset\n",
    "\n",
    "dataset = load_dataset('silicone', 'dyda_da', split='train[:1000]')"
   ]
  },
  {
   "cell_type": "code",
   "execution_count": 4,
   "metadata": {},
   "outputs": [
    {
     "data": {
      "text/plain": [
       "Dataset({\n",
       "    features: ['Utterance', 'Dialogue_Act', 'Dialogue_ID', 'Label', 'Idx'],\n",
       "    num_rows: 1000\n",
       "})"
      ]
     },
     "execution_count": 4,
     "metadata": {},
     "output_type": "execute_result"
    }
   ],
   "source": [
    "dataset"
   ]
  },
  {
   "cell_type": "code",
   "execution_count": 5,
   "metadata": {},
   "outputs": [
    {
     "name": "stdout",
     "output_type": "stream",
     "text": [
      "71\n",
      "98\n",
      "529\n",
      "302\n"
     ]
    }
   ],
   "source": [
    "print(dataset['Label'].count(0))\n",
    "print(dataset['Label'].count(1))\n",
    "print(dataset['Label'].count(2))\n",
    "print(dataset['Label'].count(3))"
   ]
  },
  {
   "cell_type": "code",
   "execution_count": 6,
   "metadata": {},
   "outputs": [
    {
     "name": "stdout",
     "output_type": "stream",
     "text": [
      "['what', 'do', 'you', 'mean', '?', 'it', 'will', 'help', 'us', 'to', 'relax', '.']\n"
     ]
    }
   ],
   "source": [
    "tok = TweetTokenizer()\n",
    "\n",
    "# an example of tokenization\n",
    "example = dataset[2]['Utterance']\n",
    "tokens = tok.tokenize(example.lower().strip())\n",
    "print(tokens)"
   ]
  },
  {
   "cell_type": "code",
   "execution_count": 7,
   "metadata": {},
   "outputs": [],
   "source": [
    "from torchtext.vocab import GloVe, FastText, vocab\n",
    "\n",
    "pretrained_vectors = FastText(language='en')"
   ]
  },
  {
   "cell_type": "code",
   "execution_count": 8,
   "metadata": {},
   "outputs": [
    {
     "data": {
      "text/plain": [
       "torch.Size([2519370, 300])"
      ]
     },
     "execution_count": 8,
     "metadata": {},
     "output_type": "execute_result"
    }
   ],
   "source": [
    "pretrained_vectors.vectors.size()"
   ]
  },
  {
   "cell_type": "code",
   "execution_count": 9,
   "metadata": {},
   "outputs": [],
   "source": [
    "pretrained_vocab = vocab(pretrained_vectors.stoi)"
   ]
  },
  {
   "cell_type": "code",
   "execution_count": 10,
   "metadata": {},
   "outputs": [],
   "source": [
    "unk_token = \"<unk>\"\n",
    "unk_index = 1\n",
    "\n",
    "pad_token = '<pad>'\n",
    "pad_index = 0\n",
    "\n",
    "pretrained_vocab.insert_token(\"<unk>\",unk_index)\n",
    "pretrained_vocab.insert_token(\"<pad>\", pad_index)"
   ]
  },
  {
   "cell_type": "code",
   "execution_count": 11,
   "metadata": {},
   "outputs": [
    {
     "data": {
      "text/plain": [
       "torch.Size([2519371, 300])"
      ]
     },
     "execution_count": 11,
     "metadata": {},
     "output_type": "execute_result"
    }
   ],
   "source": [
    "# this is necessary otherwise it will throw runtime error \n",
    "# if OOV token is queried \n",
    "pretrained_vocab.set_default_index(unk_index)\n",
    "pretrained_embeddings = pretrained_vectors.vectors\n",
    "pretrained_embeddings = torch.cat((torch.zeros(1,pretrained_embeddings.shape[1]),\n",
    "                                   pretrained_embeddings))\n",
    "pretrained_embeddings.size()"
   ]
  },
  {
   "cell_type": "code",
   "execution_count": 12,
   "metadata": {},
   "outputs": [],
   "source": [
    "def tokenize(example, stoi, max_length):\n",
    "    \n",
    "    text = []\n",
    "    for token in tok.tokenize(example.lower().strip()):\n",
    "        if token in stoi:\n",
    "            text.append(stoi[token])\n",
    "        else:\n",
    "            text.append(stoi['<unk>'])\n",
    "    \n",
    "    padded_text = None\n",
    "    if len(text) < max_length:\n",
    "        padded_text = text + [stoi['<pad>'] for i in range(len(text), max_length)]\n",
    "    elif len(text) > max_length:\n",
    "        padded_text = text[:max_length]\n",
    "    else:\n",
    "        padded_text = text\n",
    "    return padded_text  \n",
    "  \n",
    "\n",
    "def tokenize_all(examples, stoi):\n",
    "    \n",
    "    result = {}\n",
    "    \n",
    "    result['Utterance'] = [tokenize(example, stoi, max_length=20) \\\n",
    "                           for example in examples['Utterance']]\n",
    "    result['Dialogue_Act'] = examples['Dialogue_Act']\n",
    "    result['Dialogue_ID'] = examples['Dialogue_ID']\n",
    "    result['Label'] = examples['Label']\n",
    "    \n",
    "    return result\n"
   ]
  },
  {
   "cell_type": "code",
   "execution_count": 13,
   "metadata": {},
   "outputs": [
    {
     "name": "stderr",
     "output_type": "stream",
     "text": [
      "Loading cached processed dataset at C:\\Users\\savou\\.cache\\huggingface\\datasets\\silicone\\dyda_da\\1.0.0\\af617406c94e3f78da85f7ea74ebfbd3f297a9665cb54adbae305b03bc4442a5\\cache-e1919db4d3391d19.arrow\n"
     ]
    }
   ],
   "source": [
    "dataset_study = {'train': dataset,\n",
    "                 'test': None,\n",
    "                 'validation:': None}\n",
    "dataset_study['train'] = dataset_study['train'].map(lambda e: tokenize_all(e, \n",
    "                         pretrained_vocab.get_stoi()), \n",
    "                         batched=True)"
   ]
  },
  {
   "cell_type": "code",
   "execution_count": 14,
   "metadata": {},
   "outputs": [
    {
     "name": "stdout",
     "output_type": "stream",
     "text": [
      "[[591, 2, 1817, 2, 243, 78, 667, 18, 13, 431, 17979, 66, 6186, 57, 0, 0, 0, 0, 0, 0], [51, 436, 21, 14, 38177, 42, 14, 660, 33, 279, 18, 622, 7593, 1, 0, 0, 0, 0, 0, 0]]\n"
     ]
    }
   ],
   "source": [
    "# show the example\n",
    "print(dataset_study['train']['Utterance'][:2])"
   ]
  },
  {
   "cell_type": "code",
   "execution_count": 15,
   "metadata": {},
   "outputs": [],
   "source": [
    "from sklearn.model_selection import train_test_split\n",
    "\n",
    "# we divde the dataset on the training set of the original data\n",
    "indices = [i for i in range(len(dataset_study['train']))]\n",
    "\n",
    "# 67% train\n",
    "# 16% validation\n",
    "# 16% testing\n",
    "\n",
    "train_indices, other_indices, _, _ = train_test_split(indices, indices, \n",
    "                                                      test_size=0.33, random_state=42)\n",
    "val_indices, test_indices, _, _ = train_test_split(other_indices, other_indices, \n",
    "                                                   test_size=0.5, random_state=42)"
   ]
  },
  {
   "cell_type": "code",
   "execution_count": 16,
   "metadata": {},
   "outputs": [
    {
     "name": "stdout",
     "output_type": "stream",
     "text": [
      "670 165 165\n"
     ]
    }
   ],
   "source": [
    "print(len(train_indices), \n",
    "      len(val_indices), \n",
    "      len(test_indices))"
   ]
  },
  {
   "cell_type": "code",
   "execution_count": 17,
   "metadata": {},
   "outputs": [],
   "source": [
    "dataset_study['validation'] = dataset_study['train'].select(val_indices)\n",
    "dataset_study['test'] = dataset_study['train'].select(test_indices)\n",
    "dataset_study['train'] = dataset_study['train'].select(train_indices)"
   ]
  },
  {
   "cell_type": "code",
   "execution_count": 18,
   "metadata": {},
   "outputs": [
    {
     "name": "stdout",
     "output_type": "stream",
     "text": [
      "[[29, 436, 181, 139, 2, 26, 335, 29, 2, 116, 33, 6769, 1, 29, 2, 116, 2492, 76, 29, 919], [139, 2, 29, 134, 6847, 45649, 181, 2, 33, 901, 76, 21, 5096, 2, 409, 1, 0, 0, 0, 0]]\n"
     ]
    }
   ],
   "source": [
    "# show the example\n",
    "print(dataset_study['validation']['Utterance'][:2])"
   ]
  },
  {
   "cell_type": "code",
   "execution_count": 19,
   "metadata": {},
   "outputs": [
    {
     "data": {
      "text/plain": [
       "{'train': Dataset({\n",
       "     features: ['Utterance', 'Dialogue_Act', 'Dialogue_ID', 'Label', 'Idx'],\n",
       "     num_rows: 670\n",
       " }),\n",
       " 'test': Dataset({\n",
       "     features: ['Utterance', 'Dialogue_Act', 'Dialogue_ID', 'Label', 'Idx'],\n",
       "     num_rows: 165\n",
       " }),\n",
       " 'validation:': None,\n",
       " 'validation': Dataset({\n",
       "     features: ['Utterance', 'Dialogue_Act', 'Dialogue_ID', 'Label', 'Idx'],\n",
       "     num_rows: 165\n",
       " })}"
      ]
     },
     "execution_count": 19,
     "metadata": {},
     "output_type": "execute_result"
    }
   ],
   "source": [
    "dataset_study"
   ]
  },
  {
   "cell_type": "code",
   "execution_count": 20,
   "metadata": {},
   "outputs": [],
   "source": [
    "# create Data Loader\n",
    "\n",
    "from torch.utils.data import Dataset\n",
    "from torch.utils.data import DataLoader\n",
    "import numpy as np\n",
    "\n",
    "class TweetDataset(Dataset):\n",
    "    \n",
    "    def __init__(self, data, args):\n",
    "        self.args = args\n",
    "        self.data = data\n",
    "\n",
    "    def __len__(self):\n",
    "        return len(self.data)\n",
    "    \n",
    "    def __getitem__(self, idx):\n",
    "        item = {\n",
    "          \"Utterance\": np.array(self.data[idx]['Utterance']),\n",
    "          \"Label\": np.array(self.data[idx]['Label'])\n",
    "        }\n",
    "        return item\n"
   ]
  },
  {
   "cell_type": "code",
   "execution_count": 21,
   "metadata": {},
   "outputs": [
    {
     "data": {
      "text/plain": [
       "{'train': Dataset({\n",
       "     features: ['Utterance', 'Dialogue_Act', 'Dialogue_ID', 'Label', 'Idx'],\n",
       "     num_rows: 670\n",
       " }),\n",
       " 'test': Dataset({\n",
       "     features: ['Utterance', 'Dialogue_Act', 'Dialogue_ID', 'Label', 'Idx'],\n",
       "     num_rows: 165\n",
       " }),\n",
       " 'validation:': None,\n",
       " 'validation': Dataset({\n",
       "     features: ['Utterance', 'Dialogue_Act', 'Dialogue_ID', 'Label', 'Idx'],\n",
       "     num_rows: 165\n",
       " })}"
      ]
     },
     "execution_count": 21,
     "metadata": {},
     "output_type": "execute_result"
    }
   ],
   "source": [
    "dataset_study"
   ]
  },
  {
   "cell_type": "code",
   "execution_count": 22,
   "metadata": {},
   "outputs": [],
   "source": [
    "# load the data into batches\n",
    "\n",
    "args = {'bsize': 64}\n",
    "\n",
    "train_loader = DataLoader(TweetDataset(dataset_study['train'], args), \n",
    "                          batch_size = args['bsize'], num_workers=0, \n",
    "                          shuffle=True, drop_last=True)\n",
    "\n",
    "val_loader   = DataLoader(TweetDataset(dataset_study['validation'], args), \n",
    "                          batch_size=args['bsize'], num_workers=0, \n",
    "                          shuffle=True, drop_last=True)\n",
    "\n",
    "test_loader  = DataLoader(TweetDataset(dataset_study['test'], args), \n",
    "                          batch_size=args['bsize'], num_workers=0, \n",
    "                          shuffle=True, drop_last=True)"
   ]
  },
  {
   "cell_type": "code",
   "execution_count": 23,
   "metadata": {},
   "outputs": [],
   "source": [
    "# model\n",
    "\n",
    "class Model(nn.Module):\n",
    "    \n",
    "    def __init__(self, input_size, hidden_size, output_size, mlp_size, class_size):\n",
    "        \n",
    "        super(Model, self).__init__()\n",
    "        self.input_size = input_size\n",
    "        self.hidden_size = hidden_size\n",
    "        self.output_size = output_size\n",
    "        self.class_size = class_size\n",
    "        self.mlp_size = mlp_size\n",
    "        \n",
    "        self.embedding = nn.Embedding.from_pretrained(pretrained_embeddings, freeze=True)\n",
    "        \n",
    "        self.decoders = nn.TransformerDecoderLayer(d_model = hidden_size,nhead = 10)\n",
    "        \n",
    "        self.out = nn.Linear(in_features = hidden_size, \n",
    "                             out_features = output_size)\n",
    "        \n",
    "        self.linear = nn.Linear(output_size, mlp_size)\n",
    "        # self.gru = nn.GRU(mlp_size, mlp_size)\n",
    "        self.linear2 = nn.Linear(mlp_size, mlp_size)\n",
    "        self.linear3 = nn.Linear(mlp_size, class_size)\n",
    "        self.drop = nn.Dropout(p=0.2)\n",
    "        self.relu = nn.ReLU()\n",
    "        \n",
    "        self.logsoftmax = nn.LogSoftmax(dim=1)\n",
    "        self.softmax = nn.Softmax(dim=1)\n",
    "    \n",
    "    #  methods \n",
    "    def forward(self, x):\n",
    "        \n",
    "        embedded = self.embedding(x)\n",
    "        \n",
    "        for i in range(12):\n",
    "            embedded= self.decoders(embedded, embedded)\n",
    "            \n",
    "        output = self.out(embedded)\n",
    "        size=output.size()\n",
    "        size=size[0]*size[1]\n",
    "        output = output.reshape(size)\n",
    "        \n",
    "        out2 = nn.Linear(size, output_size)\n",
    "        output = out2(output)\n",
    "        \n",
    "        output = self.softmax(output.unsqueeze(dim=0))\n",
    "        \n",
    "        output = self.linear(output)\n",
    "        output = self.relu(output)\n",
    "        \n",
    "        output = self.linear2(output)\n",
    "        output = self.relu(output)\n",
    "        \n",
    "        output = self.linear3(output)\n",
    "        output = self.softmax(output.squeeze(dim=0).unsqueeze(dim=0))\n",
    "        \n",
    "        return output"
   ]
  },
  {
   "cell_type": "code",
   "execution_count": 24,
   "metadata": {},
   "outputs": [
    {
     "name": "stderr",
     "output_type": "stream",
     "text": [
      "d:\\10_python\\python-3.8.2\\python\\lib\\site-packages\\sklearn\\utils\\validation.py:67: FutureWarning: Pass classes=[0 1 2 3], y=[3 3 3 2 1 2 2 2 3 2 3 2 2 2 2 2 3 2 3 2 3 3 3 2 2 1 3 2 2 1 2 2 3 3 3 2 2\n",
      " 3 1 0 2 3 0 3 0 2 2 3 3 3 2 0 3 2 3 1 3 2 3 2 2 2 3 1 2 2 2 2 2 2 2 3 2 2\n",
      " 2 3 3 2 2 2 3 3 2 1 2 2 2 0 3 2 3 3 2 3 2 2 2 2 2 2 2 2 2 2 2 3 2 2 2 2 3\n",
      " 2 3 2 2 3 3 2 1 2 2 2 2 2 2 2 2 1 2 2 2 0 2 1 2 2 1 3 2 3 3 2 2 2 3 3 1 3\n",
      " 2 2 3 2 2 2 2 2 3 2 2 2 1 2 3 2 3 1 3 2 3 3 2 2 3 2 2 2 2 2 2 2 1 3 2 2 3\n",
      " 2 3 3 1 2 3 3 3 2 3 2 3 3 2 2 2 3 3 2 1 3 2 2 3 3 2 2 2 0 0 1 2 3 2 3 1 2\n",
      " 2 3 3 2 2 3 2 3 1 2 2 1 0 2 2 3 2 3 2 2 2 2 3 2 2 3 3 2 2 2 0 3 1 3 2 2 2\n",
      " 2 2 1 2 3 1 3 2 2 2 2 2 2 1 1 3 2 2 0 3 2 2 2 3 2 2 2 2 2 0 3 3 2 1 3 3 2\n",
      " 2 2 2 2 2 3 0 3 3 2 2 2 3 2 2 3 3 2 2 2 3 1 2 0 2 3 2 2 2 0 0 2 3 3 2 0 2\n",
      " 2 0 2 2 3 1 2 3 3 2 3 0 3 3 2 2 3 2 0 2 1 0 3 0 2 0 1 2 2 2 0 0 1 2 2 2 2\n",
      " 2 1 2 3 3 2 2 2 3 3 1 3 2 2 3 2 3 1 2 2 2 2 2 2 0 2 2 0 2 1 2 3 2 3 2 3 3\n",
      " 1 3 3 2 2 0 3 2 0 3 3 1 1 2 1 2 2 3 2 2 2 3 3 1 3 0 2 2 3 2 0 1 3 3 2 3 2\n",
      " 2 2 3 2 3 3 3 2 1 3 2 3 2 2 3 3 2 2 2 3 2 3 2 2 3 2 2 2 2 2 2 3 1 0 2 2 3\n",
      " 2 3 1 2 2 3 1 2 2 0 1 3 1 0 2 3 0 3 2 2 2 3 2 3 2 1 2 3 3 3 0 3 2 1 2 3 2\n",
      " 3 3 1 3 1 3 2 3 2 2 2 3 3 1 2 3 2 3 3 2 2 2 2 2 2 3 2 0 3 1 2 3 2 3 3 2 3\n",
      " 3 2 2 2 2 2 2 1 2 3 2 2 2 3 2 0 2 2 2 2 3 3 2 2 2 3 1 2 3 0 0 2 3 3 2 1 3\n",
      " 2 3 2 2 0 2 2 3 2 3 2 3 3 3 2 2 2 2 0 3 2 3 3 1 3 1 2 2 0 2 3 3 3 0 2 3 2\n",
      " 2 3 2 2 3 1 3 3 1 3 3 3 2 3 0 3 2 1 3 0 2 3 2 2 3 2 1 2 3 3 2 0 2 2 2 2 2\n",
      " 2 2 1 2] as keyword args. From version 0.25 passing these as positional arguments will result in an error\n",
      "  warnings.warn(\"Pass {} as keyword args. From version 0.25 \"\n"
     ]
    }
   ],
   "source": [
    "from sklearn.utils import class_weight\n",
    "\n",
    "y = torch.tensor(dataset_study['train']['Label'])\n",
    "class_weights=class_weight.compute_class_weight('balanced',np.unique(y),y.numpy())\n",
    "class_weights=torch.tensor(class_weights,dtype=torch.float)"
   ]
  },
  {
   "cell_type": "code",
   "execution_count": 32,
   "metadata": {},
   "outputs": [],
   "source": [
    "# training function\n",
    "\n",
    "def train(batch, model, optimizer, epoch, class_weights):\n",
    "    \n",
    "    model.train()\n",
    "    # initialize empty lists for losses and accuracies\n",
    "    loss_iter = list()\n",
    "    accuracy_iter = list()\n",
    "        \n",
    "    batch = {'Utterance': batch['Utterance'].to('cpu'),\n",
    "             'Label': batch['Label'].to('cpu')}\n",
    "        \n",
    "    optimizer.zero_grad()\n",
    "    \n",
    "    batch_size = 64\n",
    "    logits = model(batch['Utterance'][0]).unsqueeze(dim=0)\n",
    "\n",
    "    for i in range(1, batch_size):\n",
    "        logit = model(batch['Utterance'][i]).unsqueeze(dim=0)\n",
    "        logits = torch.cat((logits, logit), 0)\n",
    "    \n",
    "    label = torch.tensor(batch['Label'], dtype=torch.long)\n",
    "    \n",
    "    cross_entropy_loss = nn.CrossEntropyLoss(weight=class_weights)\n",
    "    logits = logits.detach()\n",
    "    logits = torch.tensor(logits, requires_grad=True)\n",
    "    logits = logits.squeeze(dim=1)\n",
    "    loss = cross_entropy_loss(logits, label)\n",
    "    loss.backward()\n",
    "    optimizer.step()\n",
    "    \n",
    "    loss_iter.append(loss.item())\n",
    "    \n",
    "    # calculate the accuracy\n",
    "    _, tag_seq  = torch.max(logits, 1)\n",
    "    correct = (tag_seq.flatten() == batch['Label'].flatten()).float().sum()\n",
    "    accuracy = correct / batch['Label'].flatten().size(0)\n",
    "    accuracy_iter.append(accuracy.item())\n",
    "  \n",
    "    # simple averages of losses for this epoch\n",
    "    loss_iter_avg = sum(loss_iter)/len(loss_iter)\n",
    "    accuracy_it_avg = sum(accuracy_iter)/len(accuracy_iter)\n",
    "    \n",
    "    return loss_iter_avg, accuracy_it_avg"
   ]
  },
  {
   "cell_type": "code",
   "execution_count": 26,
   "metadata": {},
   "outputs": [],
   "source": [
    "# start training\n",
    "\n",
    "import torch.optim as optim\n",
    "\n",
    "def run_epochs(transformer, max_epochs, learning_rate=0.001,limit=0,class_weights=class_weights):    \n",
    "    \n",
    "    optimizer = optim.AdamW(transformer.parameters(), \n",
    "                          lr=learning_rate)\n",
    "\n",
    "    epoch_losses = []\n",
    "    epoch_accuracies = []\n",
    "\n",
    "    for epoch in range(max_epochs):\n",
    "        \n",
    "        # training\n",
    "        it_losses = []\n",
    "        it_accuracies = []\n",
    "        \n",
    "        total = train_loader.__len__()\n",
    "        # allow to limit the number of random samples per epoch\n",
    "        if limit > 0: \n",
    "            total = limit\n",
    "        \n",
    "        for iter, batch in tqdm(enumerate(train_loader), \n",
    "                                desc=\"Epoch %s:\" % (epoch), \n",
    "                                total=total):\n",
    "            # trigger the limit if it is set\n",
    "            if limit > 0 and iter >= limit: \n",
    "                break\n",
    "\n",
    "            loss, accuracy = train(batch, transformer, optimizer, epoch, class_weights)\n",
    "            \n",
    "            it_losses.append(loss)\n",
    "            it_accuracies.append(accuracy)\n",
    "\n",
    "        epoch_loss = sum(it_losses)/len(it_losses)\n",
    "        epoch_accuracy = sum(it_accuracies)/len(it_accuracies)\n",
    "    \n",
    "        epoch_losses.append(epoch_loss)\n",
    "        epoch_accuracies.append(epoch_accuracy)\n",
    "        \n",
    "        print(\"Epoch %s : %s : (%s %s) (%s %s)\" % (colored(str(epoch), 'blue'), \n",
    "                                        colored('Training', 'blue'), \n",
    "                                        colored('loss', 'cyan'), epoch_loss,\n",
    "                                        colored('accuracy', 'cyan'),epoch_accuracy))\n",
    "      \n",
    "    return epoch_losses,epoch_accuracies \n"
   ]
  },
  {
   "cell_type": "code",
   "execution_count": 27,
   "metadata": {},
   "outputs": [],
   "source": [
    "# inference function\n",
    "\n",
    "def inference(target, model, loader, limit=0,class_weights=class_weights):\n",
    "    \n",
    "    model.eval()\n",
    "    \n",
    "    loss_iter = []\n",
    "    accuracy_iter = []\n",
    "    \n",
    "    value_predict = []\n",
    "    value_real = []\n",
    "\n",
    "    total = loader.__len__()\n",
    "    if limit > 0: \n",
    "        total = limit\n",
    "\n",
    "    for iter, batch in tqdm(enumerate(loader), \n",
    "                            desc=\"%s:\" % (target), \n",
    "                            total=total):\n",
    "        if limit > 0 and it >= limit: \n",
    "            break\n",
    "\n",
    "        with torch.no_grad():\n",
    "\n",
    "            batch_size = 64\n",
    "            logits = model(batch['Utterance'][0]).unsqueeze(dim=0)\n",
    "\n",
    "            for i in range(1, batch_size):\n",
    "                logit = model(batch['Utterance'][i]).unsqueeze(dim=0)\n",
    "                logits = torch.cat((logits, logit), 0)\n",
    "    \n",
    "            label = torch.tensor(batch['Label'], dtype=torch.long)\n",
    "    \n",
    "            cross_entropy_loss = nn.CrossEntropyLoss(weight=class_weights)\n",
    "            logits = logits.detach()\n",
    "            logits = torch.tensor(logits, requires_grad=True)\n",
    "            logits = logits.squeeze(dim=1)\n",
    "            loss = cross_entropy_loss(logits, label)\n",
    "            \n",
    "            loss_iter.append(loss.item())\n",
    "            \n",
    "            # calculate the accuracy\n",
    "            _, tag_seq  = torch.max(logits, 1)\n",
    "            correct = (tag_seq.flatten() == batch['Label'].flatten()).float().sum()\n",
    "            accuracy = correct / batch['Label'].flatten().size(0)\n",
    "            accuracy_iter.append(accuracy.item())\n",
    "      \n",
    "            # extend\n",
    "            value_predict.extend(tag_seq.cpu().detach().tolist())\n",
    "            value_real.extend(batch['Label'].cpu().detach().tolist())\n",
    "\n",
    "    # compute the average loss and accuracy \n",
    "    loss_iter_avg = sum(loss_iter)/len(loss_iter)\n",
    "    accuracy_iter_avg = sum(accuracy_iter)/len(accuracy_iter)\n",
    "  \n",
    "    # print useful information. \n",
    "    print(\"%s : (%s %s) (%s %s)\" % (colored(target, 'blue'), \n",
    "                                    colored('loss', 'cyan'), \n",
    "                                    sum(loss_iter)/len(loss_iter), \n",
    "                                    colored('acc', 'cyan'), \n",
    "                                    sum(accuracy_iter) / len(accuracy_iter)))\n",
    "\n",
    "    # return\n",
    "    return value_real, value_predict,loss_iter_avg,\\\n",
    "           accuracy_iter_avg, loss_iter, accuracy_iter"
   ]
  },
  {
   "cell_type": "code",
   "execution_count": 28,
   "metadata": {},
   "outputs": [],
   "source": [
    "input_size=20\n",
    "hidden_size=300\n",
    "output_size=64\n",
    "mlp_size=8\n",
    "class_size=4\n",
    "epochs = 5\n",
    "\n",
    "model = Model(input_size,hidden_size, \n",
    "              output_size, mlp_size,class_size)"
   ]
  },
  {
   "cell_type": "code",
   "execution_count": 29,
   "metadata": {},
   "outputs": [],
   "source": [
    "# example\n",
    "tensor = torch.tensor(dataset_study['train'][2]['Utterance'])\n",
    "tensor = model(tensor)"
   ]
  },
  {
   "cell_type": "code",
   "execution_count": 33,
   "metadata": {},
   "outputs": [
    {
     "data": {
      "text/plain": [
       "tensor([[0.2539, 0.2904, 0.1599, 0.2959]], grad_fn=<SoftmaxBackward0>)"
      ]
     },
     "execution_count": 33,
     "metadata": {},
     "output_type": "execute_result"
    }
   ],
   "source": [
    "output = torch.tensor(dataset_study['train'][1]['Utterance'])\n",
    "model = Model(input_size,hidden_size, output_size, mlp_size,class_size)\n",
    "model(output)"
   ]
  },
  {
   "cell_type": "code",
   "execution_count": 34,
   "metadata": {
    "scrolled": true
   },
   "outputs": [
    {
     "name": "stderr",
     "output_type": "stream",
     "text": [
      "Epoch 0::   0%|                                                                                 | 0/10 [00:00<?, ?it/s]<ipython-input-32-87933517389d>:22: UserWarning: To copy construct from a tensor, it is recommended to use sourceTensor.clone().detach() or sourceTensor.clone().detach().requires_grad_(True), rather than torch.tensor(sourceTensor).\n",
      "  label = torch.tensor(batch['Label'], dtype=torch.long)\n",
      "<ipython-input-32-87933517389d>:26: UserWarning: To copy construct from a tensor, it is recommended to use sourceTensor.clone().detach() or sourceTensor.clone().detach().requires_grad_(True), rather than torch.tensor(sourceTensor).\n",
      "  logits = torch.tensor(logits, requires_grad=True)\n",
      "Epoch 0:: 100%|████████████████████████████████████████████████████████████████████████| 10/10 [01:04<00:00,  6.50s/it]\n"
     ]
    },
    {
     "name": "stdout",
     "output_type": "stream",
     "text": [
      "Epoch 0 : Training : (loss 1.3867566466331482) (accuracy 0.5203125)\n"
     ]
    },
    {
     "name": "stderr",
     "output_type": "stream",
     "text": [
      "Epoch 1:: 100%|████████████████████████████████████████████████████████████████████████| 10/10 [01:05<00:00,  6.54s/it]\n"
     ]
    },
    {
     "name": "stdout",
     "output_type": "stream",
     "text": [
      "Epoch 1 : Training : (loss 1.3858017325401306) (accuracy 0.525)\n"
     ]
    },
    {
     "name": "stderr",
     "output_type": "stream",
     "text": [
      "Epoch 2:: 100%|████████████████████████████████████████████████████████████████████████| 10/10 [01:05<00:00,  6.59s/it]\n"
     ]
    },
    {
     "name": "stdout",
     "output_type": "stream",
     "text": [
      "Epoch 2 : Training : (loss 1.3867583632469178) (accuracy 0.51875)\n"
     ]
    },
    {
     "name": "stderr",
     "output_type": "stream",
     "text": [
      "Epoch 3:: 100%|████████████████████████████████████████████████████████████████████████| 10/10 [01:06<00:00,  6.63s/it]\n"
     ]
    },
    {
     "name": "stdout",
     "output_type": "stream",
     "text": [
      "Epoch 3 : Training : (loss 1.3867487549781798) (accuracy 0.5234375)\n"
     ]
    },
    {
     "name": "stderr",
     "output_type": "stream",
     "text": [
      "Epoch 4:: 100%|████████████████████████████████████████████████████████████████████████| 10/10 [01:06<00:00,  6.66s/it]"
     ]
    },
    {
     "name": "stdout",
     "output_type": "stream",
     "text": [
      "Epoch 4 : Training : (loss 1.3862419247627258) (accuracy 0.5203125)\n"
     ]
    },
    {
     "name": "stderr",
     "output_type": "stream",
     "text": [
      "\n"
     ]
    }
   ],
   "source": [
    "model = Model(input_size,hidden_size, output_size, mlp_size,class_size)\n",
    "loss_list, accuracy_list = run_epochs(model, epochs, \n",
    "                                      learning_rate=0.01,  \n",
    "                                      limit=0,\n",
    "                                      class_weights=class_weights)"
   ]
  },
  {
   "cell_type": "code",
   "execution_count": 200,
   "metadata": {},
   "outputs": [],
   "source": [
    "%matplotlib inline\n",
    "import matplotlib.pyplot as plt\n",
    "\n",
    "def plot_loss(loss_list):\n",
    "    \n",
    "    plt.plot(range(len(loss_list)), loss_list)\n",
    "    plt.xlabel('epochs')\n",
    "    plt.ylabel('loss')\n",
    "    plt.title('lr: {}, optim_alg:{}'.format(0.01, 'Adam'))\n",
    "    plt.show()"
   ]
  },
  {
   "cell_type": "code",
   "execution_count": 201,
   "metadata": {},
   "outputs": [
    {
     "data": {
      "image/png": "[encoded data removed]",
      "text/plain": [
       "<Figure size 432x288 with 1 Axes>"
      ]
     },
     "metadata": {
      "needs_background": "light"
     },
     "output_type": "display_data"
    }
   ],
   "source": [
    "plot_loss(loss_list)"
   ]
  },
  {
   "cell_type": "code",
   "execution_count": 204,
   "metadata": {},
   "outputs": [],
   "source": [
    "def plot_accuracy(accuracy_list):\n",
    "    \n",
    "    plt.plot(range(len(accuracy_list)), accuracy_list)\n",
    "    plt.xlabel('epochs')\n",
    "    plt.ylabel('accuracy')\n",
    "    plt.title('lr: {}, optim_alg:{}'.format(0.01, 'Adam'))\n",
    "    plt.show()"
   ]
  },
  {
   "cell_type": "code",
   "execution_count": 205,
   "metadata": {
    "scrolled": false
   },
   "outputs": [
    {
     "data": {
      "image/png": "[encoded data removed]",
      "text/plain": [
       "<Figure size 432x288 with 1 Axes>"
      ]
     },
     "metadata": {
      "needs_background": "light"
     },
     "output_type": "display_data"
    }
   ],
   "source": [
    "plot_accuracy(accuracy_list)"
   ]
  },
  {
   "cell_type": "code",
   "execution_count": 206,
   "metadata": {},
   "outputs": [
    {
     "name": "stderr",
     "output_type": "stream",
     "text": [
      "test::   0%|                                                                                     | 0/2 [00:00<?, ?it/s]<ipython-input-187-2d1ac5369275>:32: UserWarning: To copy construct from a tensor, it is recommended to use sourceTensor.clone().detach() or sourceTensor.clone().detach().requires_grad_(True), rather than torch.tensor(sourceTensor).\n",
      "  label = torch.tensor(batch['Label'], dtype=torch.long)\n",
      "<ipython-input-187-2d1ac5369275>:36: UserWarning: To copy construct from a tensor, it is recommended to use sourceTensor.clone().detach() or sourceTensor.clone().detach().requires_grad_(True), rather than torch.tensor(sourceTensor).\n",
      "  logits = torch.tensor(logits, requires_grad=True)\n",
      "test:: 100%|█████████████████████████████████████████████████████████████████████████████| 2/2 [00:07<00:00,  3.93s/it]"
     ]
    },
    {
     "name": "stdout",
     "output_type": "stream",
     "text": [
      "test : (loss 1.3821804523468018) (acc 0.5546875)\n"
     ]
    },
    {
     "name": "stderr",
     "output_type": "stream",
     "text": [
      "\n"
     ]
    }
   ],
   "source": [
    "value_real, value_predict,loss_iter_avg,\\\n",
    "accuracy_iter_avg, loss_iter, accuracy_iter = inference(\"test\",\n",
    "                                                        model,\n",
    "                                                        test_loader)"
   ]
  },
  {
   "cell_type": "code",
   "execution_count": 35,
   "metadata": {},
   "outputs": [
    {
     "name": "stderr",
     "output_type": "stream",
     "text": [
      "validation::   0%|                                                                               | 0/2 [00:00<?, ?it/s]<ipython-input-27-2d1ac5369275>:32: UserWarning: To copy construct from a tensor, it is recommended to use sourceTensor.clone().detach() or sourceTensor.clone().detach().requires_grad_(True), rather than torch.tensor(sourceTensor).\n",
      "  label = torch.tensor(batch['Label'], dtype=torch.long)\n",
      "<ipython-input-27-2d1ac5369275>:36: UserWarning: To copy construct from a tensor, it is recommended to use sourceTensor.clone().detach() or sourceTensor.clone().detach().requires_grad_(True), rather than torch.tensor(sourceTensor).\n",
      "  logits = torch.tensor(logits, requires_grad=True)\n",
      "validation:: 100%|███████████████████████████████████████████████████████████████████████| 2/2 [00:07<00:00,  3.84s/it]"
     ]
    },
    {
     "name": "stdout",
     "output_type": "stream",
     "text": [
      "validation : (loss 1.3817933797836304) (acc 0.6015625)\n"
     ]
    },
    {
     "name": "stderr",
     "output_type": "stream",
     "text": [
      "\n"
     ]
    }
   ],
   "source": [
    "value_real, value_predict,loss_iter_avg,\\\n",
    "accuracy_iter_avg, loss_iter, accuracy_iter = inference(\"validation\",\n",
    "                                                        model,\n",
    "                                                        test_loader)"
   ]
  },
  {
   "cell_type": "code",
   "execution_count": 37,
   "metadata": {},
   "outputs": [],
   "source": [
    "# example table\n",
    "\n",
    "from sklearn.metrics import confusion_matrix\n",
    "#confusion_matrix(np.array(value_real).flatten(), np.array(value_predict).flatten())"
   ]
  },
  {
   "cell_type": "code",
   "execution_count": 41,
   "metadata": {},
   "outputs": [
    {
     "data": {
      "text/plain": [
       "<bound method Module.named_parameters of Model(\n",
       "  (embedding): Embedding(2519371, 300)\n",
       "  (decoders): TransformerDecoderLayer(\n",
       "    (self_attn): MultiheadAttention(\n",
       "      (out_proj): NonDynamicallyQuantizableLinear(in_features=300, out_features=300, bias=True)\n",
       "    )\n",
       "    (multihead_attn): MultiheadAttention(\n",
       "      (out_proj): NonDynamicallyQuantizableLinear(in_features=300, out_features=300, bias=True)\n",
       "    )\n",
       "    (linear1): Linear(in_features=300, out_features=2048, bias=True)\n",
       "    (dropout): Dropout(p=0.1, inplace=False)\n",
       "    (linear2): Linear(in_features=2048, out_features=300, bias=True)\n",
       "    (norm1): LayerNorm((300,), eps=1e-05, elementwise_affine=True)\n",
       "    (norm2): LayerNorm((300,), eps=1e-05, elementwise_affine=True)\n",
       "    (norm3): LayerNorm((300,), eps=1e-05, elementwise_affine=True)\n",
       "    (dropout1): Dropout(p=0.1, inplace=False)\n",
       "    (dropout2): Dropout(p=0.1, inplace=False)\n",
       "    (dropout3): Dropout(p=0.1, inplace=False)\n",
       "  )\n",
       "  (out): Linear(in_features=300, out_features=64, bias=True)\n",
       "  (linear): Linear(in_features=64, out_features=8, bias=True)\n",
       "  (linear2): Linear(in_features=8, out_features=8, bias=True)\n",
       "  (linear3): Linear(in_features=8, out_features=4, bias=True)\n",
       "  (drop): Dropout(p=0.2, inplace=False)\n",
       "  (relu): ReLU()\n",
       "  (logsoftmax): LogSoftmax(dim=1)\n",
       "  (softmax): Softmax(dim=1)\n",
       ")>"
      ]
     },
     "execution_count": 41,
     "metadata": {},
     "output_type": "execute_result"
    }
   ],
   "source": [
    "model.named_parameters"
   ]
  },
  {
   "cell_type": "code",
   "execution_count": 46,
   "metadata": {},
   "outputs": [],
   "source": [
    "pp=0\n",
    "for p in list(model.parameters()):\n",
    "    nn=1\n",
    "    for s in list(p.size()):\n",
    "        nn = nn*s\n",
    "        pp += nn"
   ]
  },
  {
   "cell_type": "code",
   "execution_count": 47,
   "metadata": {},
   "outputs": [
    {
     "data": {
      "text/plain": [
       "760310743"
      ]
     },
     "execution_count": 47,
     "metadata": {},
     "output_type": "execute_result"
    }
   ],
   "source": [
    "pp"
   ]
  },
  {
   "cell_type": "code",
   "execution_count": null,
   "metadata": {},
   "outputs": [],
   "source": []
  }
 ],
 "metadata": {
  "kernelspec": {
   "display_name": "Python 3",
   "language": "python",
   "name": "python3"
  },
  "language_info": {
   "codemirror_mode": {
    "name": "ipython",
    "version": 3
   },
   "file_extension": ".py",
   "mimetype": "text/x-python",
   "name": "python",
   "nbconvert_exporter": "python",
   "pygments_lexer": "ipython3",
   "version": "3.8.2"
  }
 },
 "nbformat": 4,
 "nbformat_minor": 4
}
